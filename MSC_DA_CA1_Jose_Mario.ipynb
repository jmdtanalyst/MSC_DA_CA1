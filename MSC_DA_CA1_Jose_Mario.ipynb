{
 "cells": [
  {
   "cell_type": "markdown",
   "id": "a8bd6125",
   "metadata": {},
   "source": [
    "## 1 . First we need to read and explore the datasets: \n",
    "   ### 1.1 PEA07 - PEA25-Estimated_Pupulation-1996-2017.csv"
   ]
  },
  {
   "cell_type": "code",
   "execution_count": 1,
   "id": "a5e20e1a",
   "metadata": {},
   "outputs": [
    {
     "name": "stdout",
     "output_type": "stream",
     "text": [
      "                           Statistic Label Age Group         Sex  \\\n",
      "0  Estimated Population (Persons in April)  All ages  Both sexes   \n",
      "1  Estimated Population (Persons in April)  All ages  Both sexes   \n",
      "\n",
      "  Regional Authority Area  Year      UNIT   VALUE  \n",
      "0                   State  1996  Thousand  3626.1  \n",
      "1                   State  1997  Thousand  3664.3  \n",
      "Columns Names:\n",
      " Index(['Statistic Label', 'Age Group', 'Sex', 'Regional Authority Area',\n",
      "       'Year', 'UNIT', 'VALUE'],\n",
      "      dtype='object')\n"
     ]
    }
   ],
   "source": [
    "\n",
    "import pandas as pd\n",
    "import numpy as np\n",
    "\n",
    "#Datasets:\n",
    "pea07 =\"./Dataset/PEA07-Estimated_Pupulation-1996-2017.csv\"\n",
    "pea04 =\"./Dataset/PEA04-Estimated_Pupulation-2011-2023.csv\" \n",
    "\n",
    "\n",
    "df1 = pd.read_csv(pea07)\n",
    "print(df1.head(2))\n",
    "\n",
    "print(F\"Columns Names:\\n\",df1.columns)\n"
   ]
  },
  {
   "cell_type": "code",
   "execution_count": 2,
   "id": "7aaf5101",
   "metadata": {
    "scrolled": true
   },
   "outputs": [
    {
     "name": "stdout",
     "output_type": "stream",
     "text": [
      "    Regional Authority Area  Year  Population\n",
      "0                     State  1996      3626.1\n",
      "176              South-West  1996       546.6\n",
      "154              South-East  1996       391.5\n",
      "44                  Midland  1996       205.5\n",
      "22                   Border  1996       407.3\n",
      "66                     West  1996       352.4\n",
      "132                Mid-West  1996       317.1\n",
      "110                Mid-East  1996       347.4\n",
      "88                   Dublin  1996      1058.3\n",
      "89                   Dublin  1997      1072.2\n",
      "1                     State  1997      3664.3\n",
      "177              South-West  1997       549.1\n",
      "155              South-East  1997       393.3\n",
      "111                Mid-East  1997       361.2\n",
      "23                   Border  1997       408.2\n",
      "133                Mid-West  1997       317.8\n",
      "67                     West  1997       354.0\n",
      "45                  Midland  1997       208.5\n",
      "134                Mid-West  1998       322.0\n",
      "90                   Dublin  1998      1081.4\n",
      "\n",
      " check if there are null data\n",
      "Regional Authority Area    0\n",
      "Year                       0\n",
      "Population                 0\n",
      "dtype: int64\n",
      "\n",
      " Shape: (198, 3)\n"
     ]
    }
   ],
   "source": [
    "## Now we need to drop unicessary columns, and rename the other ones.\n",
    "\n",
    "df1 = df1.rename(columns={'VALUE': 'Population'})\n",
    "df1 = df1.loc[:,['Regional Authority Area','Year',\"Population\"]]\n",
    "\n",
    "# Rechecking the data\n",
    "df1 = df1.sort_values(by='Year', ascending=True)\n",
    "\n",
    "print(df1.head(20))\n",
    "\n",
    "print(f\"\\n check if there are null data\")\n",
    "print(df1.isnull().sum())\n",
    "\n",
    "print(f\"\\n Shape:\",df1.shape)"
   ]
  },
  {
   "cell_type": "markdown",
   "id": "51878fe6",
   "metadata": {},
   "source": [
    "### As we can see, the data is splited by \"Regional Authority Area\", and considering that State means the sum of all \"Regional Authority Areas\", we need to filter the data by State.\n"
   ]
  },
  {
   "cell_type": "code",
   "execution_count": 3,
   "id": "893678b3",
   "metadata": {
    "scrolled": true
   },
   "outputs": [
    {
     "name": "stdout",
     "output_type": "stream",
     "text": [
      "   Regional Authority Area  Year  Population\n",
      "0                    State  1996      3626.1\n",
      "1                    State  1997      3664.3\n",
      "2                    State  1998      3703.1\n",
      "3                    State  1999      3741.6\n",
      "4                    State  2000      3789.5\n",
      "5                    State  2001      3847.2\n",
      "6                    State  2002      3917.2\n",
      "7                    State  2003      3979.9\n",
      "8                    State  2004      4045.2\n",
      "9                    State  2005      4133.8\n",
      "10                   State  2006      4232.9\n",
      "11                   State  2007      4375.8\n",
      "12                   State  2008      4485.1\n",
      "13                   State  2009      4533.4\n",
      "14                   State  2010      4554.8\n",
      "15                   State  2011      4574.9\n",
      "16                   State  2012      4585.4\n",
      "17                   State  2013      4614.7\n",
      "18                   State  2014      4645.4\n",
      "19                   State  2015      4687.8\n",
      "20                   State  2016      4739.6\n",
      "21                   State  2017      4792.5\n",
      "\n",
      " check if there are null data\n",
      "Regional Authority Area    0\n",
      "Year                       0\n",
      "Population                 0\n",
      "dtype: int64\n",
      "\n",
      " Shape: (22, 3)\n"
     ]
    }
   ],
   "source": [
    "# Filter the DataFrame to only include rows with Regional Authority Area = state\n",
    "df1 = df1[df1['Regional Authority Area'] == 'State']\n",
    "# Print the DataFrame\n",
    "print(df1)\n",
    "print(f\"\\n check if there are null data\")\n",
    "print(df1.isnull().sum())\n",
    "\n",
    "print(f\"\\n Shape:\",df1.shape)\n"
   ]
  },
  {
   "cell_type": "code",
   "execution_count": 4,
   "id": "737dfe50",
   "metadata": {},
   "outputs": [
    {
     "name": "stdout",
     "output_type": "stream",
     "text": [
      "    Year  Population\n",
      "0   1996      3626.1\n",
      "1   1997      3664.3\n",
      "2   1998      3703.1\n",
      "3   1999      3741.6\n",
      "4   2000      3789.5\n",
      "5   2001      3847.2\n",
      "6   2002      3917.2\n",
      "7   2003      3979.9\n",
      "8   2004      4045.2\n",
      "9   2005      4133.8\n",
      "10  2006      4232.9\n",
      "11  2007      4375.8\n",
      "12  2008      4485.1\n",
      "13  2009      4533.4\n",
      "14  2010      4554.8\n",
      "15  2011      4574.9\n",
      "16  2012      4585.4\n",
      "17  2013      4614.7\n",
      "18  2014      4645.4\n",
      "19  2015      4687.8\n",
      "20  2016      4739.6\n",
      "21  2017      4792.5\n"
     ]
    }
   ],
   "source": [
    "# Remove the column \"Regional Authority Area\"\n",
    "#Create a function, to prevent error on re-execution\n",
    "\n",
    "def drop_column(df, column):\n",
    "  try:\n",
    "    df.drop(column, axis=1, inplace=True)\n",
    "  except KeyError:\n",
    "    print(f\"Column {column} does not exist or has already been dropped.\")\n",
    "    pass\n",
    "\n",
    "drop_column(df1,'Regional Authority Area')\n",
    "    \n",
    "\n",
    "print(df1)"
   ]
  },
  {
   "cell_type": "markdown",
   "id": "f835ff21",
   "metadata": {},
   "source": [
    "###  PEA04-Estimated_Pupulation-2011-2023.csv"
   ]
  },
  {
   "cell_type": "code",
   "execution_count": 5,
   "id": "0406d635",
   "metadata": {
    "scrolled": true
   },
   "outputs": [
    {
     "name": "stdout",
     "output_type": "stream",
     "text": [
      "                           STATISTIC Label  Year Age Group         Sex  \\\n",
      "0  Estimated Population (Persons in April)  2011  All ages  Both sexes   \n",
      "1  Estimated Population (Persons in April)  2011  All ages  Both sexes   \n",
      "\n",
      "   Region      UNIT   VALUE  \n",
      "0   State  Thousand  4574.9  \n",
      "1  Border  Thousand   391.9  \n",
      "Columns Names:\n",
      " Index(['STATISTIC Label', 'Year', 'Age Group', 'Sex', 'Region', 'UNIT',\n",
      "       'VALUE'],\n",
      "      dtype='object')\n"
     ]
    }
   ],
   "source": [
    "\n",
    "import pandas as pd\n",
    "import numpy as np\n",
    "\n",
    "df2 = pd.read_csv(pea04)\n",
    "print(df2.head(2))\n",
    "\n",
    "print(F\"Columns Names:\\n\",df2.columns)"
   ]
  },
  {
   "cell_type": "code",
   "execution_count": 6,
   "id": "5e420b28",
   "metadata": {},
   "outputs": [
    {
     "name": "stdout",
     "output_type": "stream",
     "text": [
      "        Region  Year  Population\n",
      "0        State  2011      4574.9\n",
      "1       Border  2011       391.9\n",
      "2         West  2011       440.8\n",
      "3     Mid-West  2011       466.8\n",
      "4   South-East  2011       410.3\n",
      "5   South-West  2011       662.3\n",
      "6       Dublin  2011      1261.5\n",
      "7     Mid-East  2011       657.4\n",
      "8      Midland  2011       283.8\n",
      "17     Midland  2012       287.2\n",
      "16    Mid-East  2012       664.7\n",
      "14  South-West  2012       667.4\n",
      "13  South-East  2012       411.6\n",
      "15      Dublin  2012      1260.6\n",
      "11        West  2012       439.4\n",
      "10      Border  2012       392.1\n",
      "9        State  2012      4593.7\n",
      "12    Mid-West  2012       470.6\n",
      "26     Midland  2013       289.3\n",
      "25    Mid-East  2013       666.4\n",
      "\n",
      " check if there are null data\n",
      "Region        0\n",
      "Year          0\n",
      "Population    0\n",
      "dtype: int64\n",
      "\n",
      " Shape: (117, 3)\n"
     ]
    }
   ],
   "source": [
    "## Now we need to drop unicessary columns, and rename the other ones.\n",
    "\n",
    "df2 = df2.rename(columns={'VALUE': 'Population'})\n",
    "df2 = df2.loc[:,['Region','Year',\"Population\"]]\n",
    "\n",
    "# Rechecking the data\n",
    "df2 = df2.sort_values(by='Year', ascending=True)\n",
    "\n",
    "print(df2.head(20))\n",
    "\n",
    "print(f\"\\n check if there are null data\")\n",
    "print(df2.isnull().sum())\n",
    "\n",
    "print(f\"\\n Shape:\",df2.shape)"
   ]
  },
  {
   "cell_type": "markdown",
   "id": "71c220d4",
   "metadata": {},
   "source": [
    "### As we can see, the data is splited by \"Region\", and considering that State means the sum of all \"Regions\", we need to filter the data by State.\n",
    "\n"
   ]
  },
  {
   "cell_type": "code",
   "execution_count": 7,
   "id": "41613fef",
   "metadata": {},
   "outputs": [
    {
     "name": "stdout",
     "output_type": "stream",
     "text": [
      "    Region  Year  Population\n",
      "0    State  2011      4574.9\n",
      "9    State  2012      4593.7\n",
      "18   State  2013      4614.7\n",
      "27   State  2014      4645.4\n",
      "36   State  2015      4687.8\n",
      "45   State  2016      4739.6\n",
      "54   State  2017      4810.9\n",
      "63   State  2018      4884.9\n",
      "72   State  2019      4958.5\n",
      "81   State  2020      5029.9\n",
      "90   State  2021      5074.7\n",
      "99   State  2022      5184.0\n",
      "108  State  2023      5281.6\n",
      "\n",
      " check if there are null data\n",
      "Region        0\n",
      "Year          0\n",
      "Population    0\n",
      "dtype: int64\n",
      "\n",
      " Shape: (13, 3)\n"
     ]
    }
   ],
   "source": [
    "# Filter the DataFrame to only include rows with Regional Authority Area = state\n",
    "df2 = df2[df2['Region'] == 'State']\n",
    "# Print the DataFrame\n",
    "print(df2)\n",
    "print(f\"\\n check if there are null data\")\n",
    "print(df2.isnull().sum())\n",
    "\n",
    "print(f\"\\n Shape:\",df2.shape)\n"
   ]
  },
  {
   "cell_type": "markdown",
   "id": "be3cb698",
   "metadata": {},
   "source": [
    "## Now lets remove the column 'Regional Authority Area' and Merge both dataset."
   ]
  },
  {
   "cell_type": "code",
   "execution_count": 8,
   "id": "4137280c",
   "metadata": {
    "scrolled": true
   },
   "outputs": [
    {
     "name": "stdout",
     "output_type": "stream",
     "text": [
      "     Year  Population\n",
      "63   2018      4884.9\n",
      "72   2019      4958.5\n",
      "81   2020      5029.9\n",
      "90   2021      5074.7\n",
      "99   2022      5184.0\n",
      "108  2023      5281.6\n"
     ]
    }
   ],
   "source": [
    "# Remove the column \"Regional Authority Area\"\n",
    "#Create a function, to prevent error on re-execution\n",
    "\n",
    "def drop_column(df, column):\n",
    "  try:\n",
    "    df.drop(column, axis=1, inplace=True)\n",
    "  except KeyError:\n",
    "    print(f\"Column {column} does not exist or has already been dropped.\")\n",
    "    pass\n",
    "\n",
    "drop_column(df2,'Region')\n",
    "\n",
    "\n",
    "\n",
    "# filter second dataset, to get values from 2018 to 2023\n",
    "df2 = df2[(df2['Year'] >= 2018) & (df2['Year'] <= 2023)]\n",
    "print(df2)\n",
    "\n",
    "\n",
    "\n"
   ]
  },
  {
   "cell_type": "code",
   "execution_count": 19,
   "id": "b47fa4d1",
   "metadata": {},
   "outputs": [
    {
     "name": "stdout",
     "output_type": "stream",
     "text": [
      "    Year  Population_x  Population_y\n",
      "0   1996        3626.1           NaN\n",
      "1   1997        3664.3           NaN\n",
      "2   1998        3703.1           NaN\n",
      "3   1999        3741.6           NaN\n",
      "4   2000        3789.5           NaN\n",
      "5   2001        3847.2           NaN\n",
      "6   2002        3917.2           NaN\n",
      "7   2003        3979.9           NaN\n",
      "8   2004        4045.2           NaN\n",
      "9   2005        4133.8           NaN\n",
      "10  2006        4232.9           NaN\n",
      "11  2007        4375.8           NaN\n",
      "12  2008        4485.1           NaN\n",
      "13  2009        4533.4           NaN\n",
      "14  2010        4554.8           NaN\n",
      "15  2011        4574.9           NaN\n",
      "16  2012        4585.4           NaN\n",
      "17  2013        4614.7           NaN\n",
      "18  2014        4645.4           NaN\n",
      "19  2015        4687.8           NaN\n",
      "20  2016        4739.6           NaN\n",
      "21  2017        4792.5           NaN\n",
      "22  2018        4884.9        4884.9\n",
      "23  2019        4958.5        4958.5\n",
      "24  2020        5029.9        5029.9\n",
      "25  2021        5074.7        5074.7\n",
      "26  2022        5184.0        5184.0\n",
      "27  2023        5281.6        5281.6\n"
     ]
    }
   ],
   "source": [
    "\n",
    "\n",
    "# Merge the two DataFrames on the 'Year' column\n",
    "merged_df = df1.merge(df2, on='Year', how='outer')\n",
    "\n",
    "merged_df['Population_x'].fillna(merged_df['Population_y'], inplace=True)\n",
    "\n",
    "\n",
    "\n",
    "# Print the merged DataFrame\n",
    "print(merged_df)\n",
    "\n",
    "\n"
   ]
  },
  {
   "cell_type": "code",
   "execution_count": 10,
   "id": "8d34cd79",
   "metadata": {},
   "outputs": [
    {
     "data": {
      "image/png": "[encoded data removed]",
      "text/plain": [
       "<Figure size 640x480 with 1 Axes>"
      ]
     },
     "metadata": {},
     "output_type": "display_data"
    }
   ],
   "source": [
    "import matplotlib.pyplot as plt\n",
    "import numpy as np\n",
    "\n",
    "# Sort the data by year\n",
    "df1 = df1.sort_values(by=['Year'], ascending=True)\n",
    "\n",
    "year = df1['Year'].to_numpy()\n",
    "population = df1['Population'].to_numpy()\n",
    "\n",
    "# Create a bar chart of the population for each year\n",
    "plt.bar(year, population, color='tab:blue', edgecolor='white')\n",
    "\n",
    "# Add labels to the bars\n",
    "for i in range(len(year)):\n",
    "  plt.annotate(f'{population[i]:,}', (year[i], population[i]), ha='center', va='center')\n",
    "\n",
    "# Set the title and labels of the plot\n",
    "plt.title('Population by Year')\n",
    "plt.xlabel('Year')\n",
    "plt.ylabel('Population')\n",
    "\n",
    "# Add a grid to the plot\n",
    "plt.grid(True)\n",
    "\n",
    "# Rotate the x-axis labels to prevent overlapping\n",
    "plt.xticks(rotation=45)\n",
    "\n",
    "# Show the plot\n",
    "plt.show()\n"
   ]
  }
 ],
 "metadata": {
  "kernelspec": {
   "display_name": "Python 3 (ipykernel)",
   "language": "python",
   "name": "python3"
  },
  "language_info": {
   "codemirror_mode": {
    "name": "ipython",
    "version": 3
   },
   "file_extension": ".py",
   "mimetype": "text/x-python",
   "name": "python",
   "nbconvert_exporter": "python",
   "pygments_lexer": "ipython3",
   "version": "3.11.5"
  }
 },
 "nbformat": 4,
 "nbformat_minor": 5
}
