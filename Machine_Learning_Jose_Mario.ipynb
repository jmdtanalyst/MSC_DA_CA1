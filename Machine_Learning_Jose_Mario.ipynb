{
 "cells": [
  {
   "cell_type": "markdown",
   "id": "96317844",
   "metadata": {},
   "source": [
    "# Grid Search to Find Optimal HyperparameterC \n",
    "# Use model = SVC()  to understand your model\n",
    "\n",
    "ref: CASE STUDY (Linear SVM)\n",
    "\n",
    "task: use more than 1 parameter"
   ]
  },
  {
   "cell_type": "code",
   "execution_count": 14,
   "id": "bc6c4320",
   "metadata": {},
   "outputs": [],
   "source": [
    "# importing required libraries\n",
    "import numpy as np\n",
    "import matplotlib.pyplot as plt\n",
    "import pandas as pd\n",
    "import seaborn as sns\n",
    "\n",
    "import warnings\n",
    "warnings.filterwarnings('ignore') # We can suppress the warnings"
   ]
  },
  {
   "cell_type": "code",
   "execution_count": 6,
   "id": "2a9a06f2",
   "metadata": {},
   "outputs": [
    {
     "data": {
      "text/html": [
       "<div>\n",
       "<style scoped>\n",
       "    .dataframe tbody tr th:only-of-type {\n",
       "        vertical-align: middle;\n",
       "    }\n",
       "\n",
       "    .dataframe tbody tr th {\n",
       "        vertical-align: top;\n",
       "    }\n",
       "\n",
       "    .dataframe thead th {\n",
       "        text-align: right;\n",
       "    }\n",
       "</style>\n",
       "<table border=\"1\" class=\"dataframe\">\n",
       "  <thead>\n",
       "    <tr style=\"text-align: right;\">\n",
       "      <th></th>\n",
       "      <th>Year</th>\n",
       "      <th>Population_Total</th>\n",
       "      <th>Abandoning a child, child neglect and cruelty</th>\n",
       "      <th>Abduction of person under 16 years of age</th>\n",
       "      <th>Aggravated burglary</th>\n",
       "      <th>Aggravated sexual assault</th>\n",
       "      <th>Arson</th>\n",
       "      <th>Assault causing harm, poisoning</th>\n",
       "      <th>Attempts/threats to murder, assaults, harassments and related offences</th>\n",
       "      <th>Blackmail or extortion</th>\n",
       "      <th>...</th>\n",
       "      <th>Social code offences (n.e.c.)</th>\n",
       "      <th>Theft and related offences</th>\n",
       "      <th>Theft from person</th>\n",
       "      <th>Theft from shop</th>\n",
       "      <th>Theft/taking of vehicle and related offences</th>\n",
       "      <th>Threat to kill or cause serious harm</th>\n",
       "      <th>Trespass offences</th>\n",
       "      <th>Unseaworthy/dangerous use of boat or ship</th>\n",
       "      <th>Weapons and Explosives Offences</th>\n",
       "      <th>Total_Crime</th>\n",
       "    </tr>\n",
       "  </thead>\n",
       "  <tbody>\n",
       "    <tr>\n",
       "      <th>0</th>\n",
       "      <td>2003</td>\n",
       "      <td>3979900.0</td>\n",
       "      <td>44.50</td>\n",
       "      <td>6.00</td>\n",
       "      <td>81.75</td>\n",
       "      <td>2.75</td>\n",
       "      <td>354.5</td>\n",
       "      <td>985.25</td>\n",
       "      <td>3384.00</td>\n",
       "      <td>5.25</td>\n",
       "      <td>...</td>\n",
       "      <td>299.00</td>\n",
       "      <td>18354.75</td>\n",
       "      <td>1665.50</td>\n",
       "      <td>3922.25</td>\n",
       "      <td>3286.50</td>\n",
       "      <td>10.50</td>\n",
       "      <td>359.75</td>\n",
       "      <td>0.00</td>\n",
       "      <td>478.50</td>\n",
       "      <td>114190.75</td>\n",
       "    </tr>\n",
       "    <tr>\n",
       "      <th>1</th>\n",
       "      <td>2004</td>\n",
       "      <td>4045200.0</td>\n",
       "      <td>47.75</td>\n",
       "      <td>3.00</td>\n",
       "      <td>70.50</td>\n",
       "      <td>3.50</td>\n",
       "      <td>375.0</td>\n",
       "      <td>972.25</td>\n",
       "      <td>3318.00</td>\n",
       "      <td>3.75</td>\n",
       "      <td>...</td>\n",
       "      <td>191.00</td>\n",
       "      <td>18047.25</td>\n",
       "      <td>1427.25</td>\n",
       "      <td>3720.25</td>\n",
       "      <td>3589.75</td>\n",
       "      <td>11.75</td>\n",
       "      <td>391.75</td>\n",
       "      <td>0.00</td>\n",
       "      <td>538.75</td>\n",
       "      <td>116177.50</td>\n",
       "    </tr>\n",
       "    <tr>\n",
       "      <th>2</th>\n",
       "      <td>2005</td>\n",
       "      <td>4133800.0</td>\n",
       "      <td>66.00</td>\n",
       "      <td>4.00</td>\n",
       "      <td>68.50</td>\n",
       "      <td>1.75</td>\n",
       "      <td>353.5</td>\n",
       "      <td>927.25</td>\n",
       "      <td>3420.75</td>\n",
       "      <td>4.50</td>\n",
       "      <td>...</td>\n",
       "      <td>269.00</td>\n",
       "      <td>18258.25</td>\n",
       "      <td>1152.50</td>\n",
       "      <td>4115.75</td>\n",
       "      <td>3546.75</td>\n",
       "      <td>23.75</td>\n",
       "      <td>460.00</td>\n",
       "      <td>0.00</td>\n",
       "      <td>638.25</td>\n",
       "      <td>126370.25</td>\n",
       "    </tr>\n",
       "    <tr>\n",
       "      <th>3</th>\n",
       "      <td>2006</td>\n",
       "      <td>4232900.0</td>\n",
       "      <td>75.00</td>\n",
       "      <td>3.00</td>\n",
       "      <td>71.25</td>\n",
       "      <td>4.00</td>\n",
       "      <td>415.0</td>\n",
       "      <td>1001.25</td>\n",
       "      <td>3889.50</td>\n",
       "      <td>2.75</td>\n",
       "      <td>...</td>\n",
       "      <td>204.50</td>\n",
       "      <td>18629.00</td>\n",
       "      <td>897.50</td>\n",
       "      <td>4608.75</td>\n",
       "      <td>3414.00</td>\n",
       "      <td>24.25</td>\n",
       "      <td>590.50</td>\n",
       "      <td>0.00</td>\n",
       "      <td>780.75</td>\n",
       "      <td>133717.25</td>\n",
       "    </tr>\n",
       "    <tr>\n",
       "      <th>4</th>\n",
       "      <td>2007</td>\n",
       "      <td>4375800.0</td>\n",
       "      <td>138.50</td>\n",
       "      <td>3.75</td>\n",
       "      <td>65.00</td>\n",
       "      <td>4.25</td>\n",
       "      <td>525.0</td>\n",
       "      <td>978.00</td>\n",
       "      <td>4534.75</td>\n",
       "      <td>5.25</td>\n",
       "      <td>...</td>\n",
       "      <td>187.25</td>\n",
       "      <td>18782.00</td>\n",
       "      <td>727.25</td>\n",
       "      <td>4692.00</td>\n",
       "      <td>3402.75</td>\n",
       "      <td>41.00</td>\n",
       "      <td>760.50</td>\n",
       "      <td>0.25</td>\n",
       "      <td>899.50</td>\n",
       "      <td>140990.00</td>\n",
       "    </tr>\n",
       "  </tbody>\n",
       "</table>\n",
       "<p>5 rows × 78 columns</p>\n",
       "</div>"
      ],
      "text/plain": [
       "   Year  Population_Total  Abandoning a child, child neglect and cruelty  \\\n",
       "0  2003         3979900.0                                          44.50   \n",
       "1  2004         4045200.0                                          47.75   \n",
       "2  2005         4133800.0                                          66.00   \n",
       "3  2006         4232900.0                                          75.00   \n",
       "4  2007         4375800.0                                         138.50   \n",
       "\n",
       "   Abduction of person under 16 years of age  Aggravated burglary  \\\n",
       "0                                       6.00                81.75   \n",
       "1                                       3.00                70.50   \n",
       "2                                       4.00                68.50   \n",
       "3                                       3.00                71.25   \n",
       "4                                       3.75                65.00   \n",
       "\n",
       "   Aggravated sexual assault  Arson  Assault causing harm, poisoning  \\\n",
       "0                       2.75  354.5                           985.25   \n",
       "1                       3.50  375.0                           972.25   \n",
       "2                       1.75  353.5                           927.25   \n",
       "3                       4.00  415.0                          1001.25   \n",
       "4                       4.25  525.0                           978.00   \n",
       "\n",
       "   Attempts/threats to murder, assaults, harassments and related offences  \\\n",
       "0                                            3384.00                        \n",
       "1                                            3318.00                        \n",
       "2                                            3420.75                        \n",
       "3                                            3889.50                        \n",
       "4                                            4534.75                        \n",
       "\n",
       "   Blackmail or extortion  ...  Social code offences (n.e.c.)  \\\n",
       "0                    5.25  ...                         299.00   \n",
       "1                    3.75  ...                         191.00   \n",
       "2                    4.50  ...                         269.00   \n",
       "3                    2.75  ...                         204.50   \n",
       "4                    5.25  ...                         187.25   \n",
       "\n",
       "   Theft and related offences  Theft from person  Theft from shop  \\\n",
       "0                    18354.75            1665.50          3922.25   \n",
       "1                    18047.25            1427.25          3720.25   \n",
       "2                    18258.25            1152.50          4115.75   \n",
       "3                    18629.00             897.50          4608.75   \n",
       "4                    18782.00             727.25          4692.00   \n",
       "\n",
       "   Theft/taking of vehicle and related offences  \\\n",
       "0                                       3286.50   \n",
       "1                                       3589.75   \n",
       "2                                       3546.75   \n",
       "3                                       3414.00   \n",
       "4                                       3402.75   \n",
       "\n",
       "   Threat to kill or cause serious harm  Trespass offences  \\\n",
       "0                                 10.50             359.75   \n",
       "1                                 11.75             391.75   \n",
       "2                                 23.75             460.00   \n",
       "3                                 24.25             590.50   \n",
       "4                                 41.00             760.50   \n",
       "\n",
       "   Unseaworthy/dangerous use of boat or ship  Weapons and Explosives Offences  \\\n",
       "0                                       0.00                           478.50   \n",
       "1                                       0.00                           538.75   \n",
       "2                                       0.00                           638.25   \n",
       "3                                       0.00                           780.75   \n",
       "4                                       0.25                           899.50   \n",
       "\n",
       "   Total_Crime  \n",
       "0    114190.75  \n",
       "1    116177.50  \n",
       "2    126370.25  \n",
       "3    133717.25  \n",
       "4    140990.00  \n",
       "\n",
       "[5 rows x 78 columns]"
      ]
     },
     "execution_count": 6,
     "metadata": {},
     "output_type": "execute_result"
    }
   ],
   "source": [
    "data=pd.read_csv(\"./Datasets/Pop_and_crime.csv\")\n",
    "\n",
    "data.head()"
   ]
  },
  {
   "cell_type": "code",
   "execution_count": 3,
   "id": "76ffc38c",
   "metadata": {},
   "outputs": [],
   "source": [
    "#pop_and_crime_df.to_csv('popfull.csv', index=False)\n",
    "X = data.iloc[:, 2:-1]  # Exclude Year and Total_Crime columns\n"
   ]
  },
  {
   "cell_type": "code",
   "execution_count": 13,
   "id": "01edc7df",
   "metadata": {
    "scrolled": true
   },
   "outputs": [
    {
     "name": "stdout",
     "output_type": "stream",
     "text": [
      "Arson 1.3136709906627777\n",
      "Assault causing harm, poisoning 1.230795575034443\n",
      "Blackmail or extortion 2.4322681677192355\n",
      "Carjacking, hijacking/unlawful seizure of aircraft/vessel 1.212288438016309\n",
      "Dangerous driving causing serious bodily harm 1.2557453083033268\n",
      "Dangerous or negligent acts 1.2189834682777987\n",
      "Driving/in charge of a vehicle under the influence of drugs 1.4314477626054403\n",
      "Driving/in charge of a vehicle while over legal alcohol limit 1.040102997682115\n",
      "Endangerment with potential for serious harm/death 1.2588633404338085\n",
      "Explosives, chemical weapons offences 1.8925495125228902\n",
      "False alarm/interference with aircraft or air transport facilities 1.604959465430727\n",
      "Fraud, deception and related offences 2.1812866673145996\n",
      "Infanticide 2.97459721723007\n",
      "Liquor licensing offences 1.3967238582711081\n",
      "Other thefts, handling stolen property -1.0483978414440116\n",
      "Sexual offence involving mentally impaired person 1.6917693331847612\n",
      "Social code offences (n.e.c.) 1.1780027447776928\n",
      "Theft and related offences -1.8975758384372274\n",
      "Unseaworthy/dangerous use of boat or ship 1.5977180414206513\n"
     ]
    }
   ],
   "source": [
    "columns = data.columns\n",
    "for column in columns:\n",
    "    skew = data[column].skew()\n",
    "    if skew > 1  or skew < -1:\n",
    "        print(column,skew)"
   ]
  },
  {
   "cell_type": "code",
   "execution_count": 24,
   "id": "d021b6e0",
   "metadata": {},
   "outputs": [
    {
     "data": {
      "image/png": "[encoded data removed]",
      "text/plain": [
       "<Figure size 1000x500 with 1 Axes>"
      ]
     },
     "metadata": {},
     "output_type": "display_data"
    }
   ],
   "source": [
    "\n",
    "#sns.distplot(data['Arson'],hist=True);\n",
    "\n",
    "import seaborn as sns \n",
    "# Get the columns names using: population_df.columns  and plot the boxplot with specific column\n",
    "\n",
    "plt.figure(figsize=(10, 5)) # set the figure size\n",
    "plt.title(\"Boxplot of Population by Region\") # Add a title to the boxplot\n",
    "sns.boxplot(data=data[['Arson', 'Assault causing harm, poisoning']])\n",
    "\n",
    "# Show the plot\n",
    "plt.show()\n",
    "#3sns.bloxpot(data['Arson'])"
   ]
  },
  {
   "cell_type": "code",
   "execution_count": 4,
   "id": "84c25fce",
   "metadata": {},
   "outputs": [],
   "source": [
    "#Standardize Data (Optional): Depending on the clustering algorithm you choose, it might be beneficial to standardize the data to have a mean of 0 and a standard deviation of 1.\n",
    "\n",
    "\n",
    "from sklearn.preprocessing import StandardScaler\n",
    "\n",
    "scaler = StandardScaler()\n",
    "X_scaled = scaler.fit_transform(X)\n",
    "\n",
    "\n"
   ]
  },
  {
   "cell_type": "markdown",
   "id": "9bdce5e0",
   "metadata": {},
   "source": [
    "    Choose a Clustering Algorithm: There are various clustering algorithms available, such as K-Means, DBSCAN, Hierarchical Clustering, etc. Choose an algorithm that fits your data and problem. For this example, let's use K-Means.\n",
    "\n",
    "    Apply Clustering Algorithm: Use scikit-learn to apply the chosen clustering algorithm to your data.\n"
   ]
  },
  {
   "cell_type": "code",
   "execution_count": 5,
   "id": "9245c783",
   "metadata": {},
   "outputs": [
    {
     "data": {
      "text/plain": [
       "array([[-1.18638021,  0.48851022,  1.11031015, ..., -1.75237035,\n",
       "        -1.10980968, -1.47752086],\n",
       "       [-1.0707907 , -0.94293832, -0.02278174, ..., -1.5656657 ,\n",
       "        -1.10980968, -1.10220802],\n",
       "       [-0.42171117, -0.46578881, -0.2242203 , ..., -1.1674597 ,\n",
       "        -1.10980968, -0.48239677],\n",
       "       ...,\n",
       "       [-0.14607465,  1.681384  , -1.2314131 , ..., -0.56942138,\n",
       "         0.58517238, -0.52444427],\n",
       "       [-0.21720665,  2.15853351, -1.15587364, ..., -0.3418751 ,\n",
       "         0.16142686, -0.37182743],\n",
       "       [-0.47506017, -1.18151308, -0.67745706, ..., -0.2689436 ,\n",
       "        -0.26231865, -0.48706871]])"
      ]
     },
     "execution_count": 5,
     "metadata": {},
     "output_type": "execute_result"
    }
   ],
   "source": [
    "X_scaled"
   ]
  },
  {
   "cell_type": "code",
   "execution_count": 6,
   "id": "f73c5c84",
   "metadata": {},
   "outputs": [
    {
     "data": {
      "text/plain": [
       "array([2, 2, 2, 2, 0, 0, 0, 0, 0, 0, 0, 0, 1, 1, 1, 1, 1, 1, 1, 1, 1])"
      ]
     },
     "execution_count": 6,
     "metadata": {},
     "output_type": "execute_result"
    }
   ],
   "source": [
    "from sklearn.cluster import KMeans\n",
    "\n",
    "# Define the number of clusters (you can adjust this)\n",
    "num_clusters = 3\n",
    "kmeans = KMeans(n_clusters=num_clusters, random_state=42)\n",
    "clusters = kmeans.fit_predict(X_scaled)  # Use X_scaled if you standardized the data\n",
    "clusters"
   ]
  },
  {
   "cell_type": "markdown",
   "id": "ec4c8f89",
   "metadata": {},
   "source": [
    "Add Cluster Labels to the DataFrame: "
   ]
  },
  {
   "cell_type": "code",
   "execution_count": 7,
   "id": "e5623547",
   "metadata": {},
   "outputs": [],
   "source": [
    "data['Cluster'] = clusters"
   ]
  },
  {
   "cell_type": "markdown",
   "id": "2d521765",
   "metadata": {},
   "source": [
    "Explore the Clusters: You can now analyze the clusters, understand their characteristics, and draw insights from your data. Use various plotting libraries to visualize the results"
   ]
  },
  {
   "cell_type": "code",
   "execution_count": 8,
   "id": "5f1ffe6c",
   "metadata": {},
   "outputs": [
    {
     "data": {
      "image/png": "[encoded data removed]",
      "text/plain": [
       "<Figure size 640x480 with 1 Axes>"
      ]
     },
     "metadata": {},
     "output_type": "display_data"
    }
   ],
   "source": [
    "import matplotlib.pyplot as plt\n",
    "\n",
    "# For example, you can create a scatter plot of two features with cluster labels\n",
    "plt.scatter(data['Abandoning a child, child neglect and cruelty'], data['Aggravated burglary'], c=clusters, cmap='viridis')\n",
    "plt.xlabel('Abandoning a child, child neglect and cruelty')\n",
    "plt.ylabel('Aggravated burglary')\n",
    "plt.title('Clustered Data')\n",
    "plt.show()"
   ]
  },
  {
   "cell_type": "markdown",
   "id": "341c6921",
   "metadata": {},
   "source": [
    "# Regression\n",
    "Regression Analysis:\n",
    "\n",
    "    You can perform regression analysis to examine the relationship between the population and various crime rates. Multiple linear regression or polynomial regression models can help you determine how population size affects crime rates."
   ]
  },
  {
   "cell_type": "markdown",
   "id": "18edd7f5",
   "metadata": {},
   "source": [
    "Performing a regression analysis to examine the relationship between population size and various crime rates is a common task in data analysis. You can use Python and libraries like pandas, numpy, and scikit-learn to perform linear or polynomial regression. Here's a step-by-step guide:\n",
    "\n",
    "    Load and Prepare the Data:\n",
    "\n",
    "    First, load your dataset using pandas. Ensure you have columns for population and the crime rates you want to analyze.\n",
    "\n",
    "    "
   ]
  },
  {
   "cell_type": "markdown",
   "id": "159bfbc1",
   "metadata": {},
   "source": [
    "\n",
    "Select Relevant Columns:\n",
    "\n",
    "Select the columns for population and the crime rates you want to analyze. In this example, let's consider \"Population_Total,\" \"Violent_Crime,\" and \"Property_Crime\" columns.\n",
    "\n"
   ]
  },
  {
   "cell_type": "code",
   "execution_count": null,
   "id": "049c181c",
   "metadata": {},
   "outputs": [],
   "source": []
  },
  {
   "cell_type": "code",
   "execution_count": 20,
   "id": "cf71f856",
   "metadata": {},
   "outputs": [],
   "source": [
    "\n",
    "X = data['Population_Total'].values.reshape(-1, 1)  # Independent variable (population)\n",
    "y = data['Importation of drugs'].values  # Dependent variable (violent crime rate)\n"
   ]
  },
  {
   "cell_type": "markdown",
   "id": "a5e64bf7",
   "metadata": {},
   "source": [
    "\n",
    "Choose the Regression Model:\n",
    "\n",
    "Depending on the relationship you expect between population and crime rates, you can choose between linear or polynomial regression. Here, we'll use simple linear regression as an example.\n"
   ]
  },
  {
   "cell_type": "code",
   "execution_count": 11,
   "id": "47ce2052",
   "metadata": {},
   "outputs": [],
   "source": [
    "\n",
    "from sklearn.linear_model import LinearRegression\n",
    "\n",
    "# Create a linear regression model\n",
    "model = LinearRegression()\n",
    "\n"
   ]
  },
  {
   "cell_type": "markdown",
   "id": "b86268c5",
   "metadata": {},
   "source": [
    "Split the Data (Optional):\n",
    "\n",
    "You may want to split your data into training and testing sets to evaluate the model's performance. This step is optional but recommended for model evaluation.\n"
   ]
  },
  {
   "cell_type": "code",
   "execution_count": 12,
   "id": "b28316c8",
   "metadata": {},
   "outputs": [],
   "source": [
    "\n",
    "from sklearn.model_selection import train_test_split\n",
    "\n",
    "X_train, X_test, y_train, y_test = train_test_split(X, y, test_size=0.2, random_state=42)\n",
    "\n"
   ]
  },
  {
   "cell_type": "markdown",
   "id": "428a8471",
   "metadata": {},
   "source": [
    "Train the Regression Model:\n",
    "\n",
    "Fit the regression model to your training data.\n"
   ]
  },
  {
   "cell_type": "code",
   "execution_count": 13,
   "id": "d47376b2",
   "metadata": {},
   "outputs": [
    {
     "data": {
      "text/html": [
       "<style>#sk-container-id-1 {color: black;}#sk-container-id-1 pre{padding: 0;}#sk-container-id-1 div.sk-toggleable {background-color: white;}#sk-container-id-1 label.sk-toggleable__label {cursor: pointer;display: block;width: 100%;margin-bottom: 0;padding: 0.3em;box-sizing: border-box;text-align: center;}#sk-container-id-1 label.sk-toggleable__label-arrow:before {content: \"▸\";float: left;margin-right: 0.25em;color: #696969;}#sk-container-id-1 label.sk-toggleable__label-arrow:hover:before {color: black;}#sk-container-id-1 div.sk-estimator:hover label.sk-toggleable__label-arrow:before {color: black;}#sk-container-id-1 div.sk-toggleable__content {max-height: 0;max-width: 0;overflow: hidden;text-align: left;background-color: #f0f8ff;}#sk-container-id-1 div.sk-toggleable__content pre {margin: 0.2em;color: black;border-radius: 0.25em;background-color: #f0f8ff;}#sk-container-id-1 input.sk-toggleable__control:checked~div.sk-toggleable__content {max-height: 200px;max-width: 100%;overflow: auto;}#sk-container-id-1 input.sk-toggleable__control:checked~label.sk-toggleable__label-arrow:before {content: \"▾\";}#sk-container-id-1 div.sk-estimator input.sk-toggleable__control:checked~label.sk-toggleable__label {background-color: #d4ebff;}#sk-container-id-1 div.sk-label input.sk-toggleable__control:checked~label.sk-toggleable__label {background-color: #d4ebff;}#sk-container-id-1 input.sk-hidden--visually {border: 0;clip: rect(1px 1px 1px 1px);clip: rect(1px, 1px, 1px, 1px);height: 1px;margin: -1px;overflow: hidden;padding: 0;position: absolute;width: 1px;}#sk-container-id-1 div.sk-estimator {font-family: monospace;background-color: #f0f8ff;border: 1px dotted black;border-radius: 0.25em;box-sizing: border-box;margin-bottom: 0.5em;}#sk-container-id-1 div.sk-estimator:hover {background-color: #d4ebff;}#sk-container-id-1 div.sk-parallel-item::after {content: \"\";width: 100%;border-bottom: 1px solid gray;flex-grow: 1;}#sk-container-id-1 div.sk-label:hover label.sk-toggleable__label {background-color: #d4ebff;}#sk-container-id-1 div.sk-serial::before {content: \"\";position: absolute;border-left: 1px solid gray;box-sizing: border-box;top: 0;bottom: 0;left: 50%;z-index: 0;}#sk-container-id-1 div.sk-serial {display: flex;flex-direction: column;align-items: center;background-color: white;padding-right: 0.2em;padding-left: 0.2em;position: relative;}#sk-container-id-1 div.sk-item {position: relative;z-index: 1;}#sk-container-id-1 div.sk-parallel {display: flex;align-items: stretch;justify-content: center;background-color: white;position: relative;}#sk-container-id-1 div.sk-item::before, #sk-container-id-1 div.sk-parallel-item::before {content: \"\";position: absolute;border-left: 1px solid gray;box-sizing: border-box;top: 0;bottom: 0;left: 50%;z-index: -1;}#sk-container-id-1 div.sk-parallel-item {display: flex;flex-direction: column;z-index: 1;position: relative;background-color: white;}#sk-container-id-1 div.sk-parallel-item:first-child::after {align-self: flex-end;width: 50%;}#sk-container-id-1 div.sk-parallel-item:last-child::after {align-self: flex-start;width: 50%;}#sk-container-id-1 div.sk-parallel-item:only-child::after {width: 0;}#sk-container-id-1 div.sk-dashed-wrapped {border: 1px dashed gray;margin: 0 0.4em 0.5em 0.4em;box-sizing: border-box;padding-bottom: 0.4em;background-color: white;}#sk-container-id-1 div.sk-label label {font-family: monospace;font-weight: bold;display: inline-block;line-height: 1.2em;}#sk-container-id-1 div.sk-label-container {text-align: center;}#sk-container-id-1 div.sk-container {/* jupyter's `normalize.less` sets `[hidden] { display: none; }` but bootstrap.min.css set `[hidden] { display: none !important; }` so we also need the `!important` here to be able to override the default hidden behavior on the sphinx rendered scikit-learn.org. See: https://github.com/scikit-learn/scikit-learn/issues/21755 */display: inline-block !important;position: relative;}#sk-container-id-1 div.sk-text-repr-fallback {display: none;}</style><div id=\"sk-container-id-1\" class=\"sk-top-container\"><div class=\"sk-text-repr-fallback\"><pre>LinearRegression()</pre><b>In a Jupyter environment, please rerun this cell to show the HTML representation or trust the notebook. <br />On GitHub, the HTML representation is unable to render, please try loading this page with nbviewer.org.</b></div><div class=\"sk-container\" hidden><div class=\"sk-item\"><div class=\"sk-estimator sk-toggleable\"><input class=\"sk-toggleable__control sk-hidden--visually\" id=\"sk-estimator-id-1\" type=\"checkbox\" checked><label for=\"sk-estimator-id-1\" class=\"sk-toggleable__label sk-toggleable__label-arrow\">LinearRegression</label><div class=\"sk-toggleable__content\"><pre>LinearRegression()</pre></div></div></div></div></div>"
      ],
      "text/plain": [
       "LinearRegression()"
      ]
     },
     "execution_count": 13,
     "metadata": {},
     "output_type": "execute_result"
    }
   ],
   "source": [
    "\n",
    "model.fit(X_train, y_train)\n"
   ]
  },
  {
   "cell_type": "markdown",
   "id": "5b7e009e",
   "metadata": {},
   "source": [
    "Make Predictions:\n",
    "\n",
    "Use the trained model to make predictions on your test data or the entire dataset.\n"
   ]
  },
  {
   "cell_type": "code",
   "execution_count": 14,
   "id": "a3ec5bbb",
   "metadata": {},
   "outputs": [],
   "source": [
    "\n",
    "y_pred = model.predict(X_test)  # Predictions on the test set\n"
   ]
  },
  {
   "cell_type": "markdown",
   "id": "d03b3a84",
   "metadata": {},
   "source": [
    "Evaluate the Model:\n",
    "\n",
    "If you split your data, evaluate the model's performance using metrics such as mean squared error (MSE) and R-squared.\n"
   ]
  },
  {
   "cell_type": "code",
   "execution_count": 15,
   "id": "43dc791c",
   "metadata": {},
   "outputs": [
    {
     "name": "stdout",
     "output_type": "stream",
     "text": [
      "Mean Squared Error: 7.545900259874057\n",
      "R-squared: -0.2650293813703364\n"
     ]
    }
   ],
   "source": [
    "\n",
    "from sklearn.metrics import mean_squared_error, r2_score\n",
    "\n",
    "mse = mean_squared_error(y_test, y_pred)\n",
    "r2 = r2_score(y_test, y_pred)\n",
    "print(f'Mean Squared Error: {mse}')\n",
    "print(f'R-squared: {r2}')\n"
   ]
  },
  {
   "cell_type": "markdown",
   "id": "2e351be8",
   "metadata": {},
   "source": [
    "A lower MSE and a higher R-squared indicate a better fit of the model to the data.\n",
    "\n",
    "Visualize the Results:\n",
    "\n",
    "You can visualize the regression line and the data points to better understand the relationship.\n"
   ]
  },
  {
   "cell_type": "code",
   "execution_count": 16,
   "id": "462de5a9",
   "metadata": {},
   "outputs": [
    {
     "data": {
      "image/png": "[encoded data removed]",
      "text/plain": [
       "<Figure size 1000x500 with 1 Axes>"
      ]
     },
     "metadata": {},
     "output_type": "display_data"
    }
   ],
   "source": [
    "\n",
    "    import matplotlib.pyplot as plt\n",
    "\n",
    "    \n",
    "    plt.figure(figsize=(10, 5)) # set the figure size\n",
    "\n",
    "    # Plot the data points\n",
    "    plt.scatter(X, y, label='Data')\n",
    "\n",
    "    # Plot the regression line\n",
    "    plt.plot(X, model.predict(X), color='red', label='Regression Line')\n",
    "\n",
    "    plt.xlabel('Population')\n",
    "    plt.ylabel('Violent Crime Rate')\n",
    "    plt.legend()\n",
    "    plt.show()\n",
    "\n"
   ]
  },
  {
   "cell_type": "markdown",
   "id": "091a77ed",
   "metadata": {},
   "source": [
    "# The linear regression in the image is rubbish. This is because the line is not straight and has a lot of noise.\n",
    "The linear regression in the image is rubbish. This is because the line is not straight and has a lot of noise.\n",
    "\n",
    "A linear regression model is a statistical model that attempts to model the relationship between two or more variables by fitting a linear equation to the data. The linear equation is then used to predict the value of one variable given the value of the other variable(s).\n",
    "\n",
    "In order for a linear regression model to be useful, the relationship between the variables must be approximately linear. This means that the data points should be scattered along a straight line.\n",
    "\n",
    "The image shows a scatter plot of population vs. violent crime rate. The data points are not scattered along a straight line, which indicates that the relationship between the two variables is not linear. Therefore, the linear regression model is not useful in this case.\n",
    "\n",
    "In addition, the data points in the image are very noisy. This means that there is a lot of variation in the violent crime rate for a given population. This makes it difficult to identify any clear trend in the data.\n",
    "\n",
    "Overall, the linear regression in the image is rubbish because it is not appropriate for the data and the data is too noisy.\n",
    "\n",
    "Here are some tips for improving the linear regression model:\n",
    "\n",
    "    Use a different type of regression model, such as a polynomial regression model or a non-linear regression model.\n",
    "    Remove outliers from the data.\n",
    "    Use a data transformation to make the relationship between the variables more linear.\n",
    "    Collect more data to reduce the noise.\n",
    "\n"
   ]
  },
  {
   "cell_type": "markdown",
   "id": "9ffdfc43",
   "metadata": {},
   "source": [
    "    Interpret the Results:\n",
    "\n",
    "    Analyze the regression coefficients (slope and intercept) and the R-squared value to understand how population size affects the violent crime rate.\n",
    "\n",
    "    Extension to Polynomial Regression (Optional):\n",
    "\n",
    "    If you suspect that the relationship between population and crime rates is nonlinear, you can also perform polynomial regression using PolynomialFeatures from scikit-learn.\n"
   ]
  },
  {
   "cell_type": "code",
   "execution_count": 17,
   "id": "e35f6cdf",
   "metadata": {},
   "outputs": [
    {
     "data": {
      "text/html": [
       "<style>#sk-container-id-2 {color: black;}#sk-container-id-2 pre{padding: 0;}#sk-container-id-2 div.sk-toggleable {background-color: white;}#sk-container-id-2 label.sk-toggleable__label {cursor: pointer;display: block;width: 100%;margin-bottom: 0;padding: 0.3em;box-sizing: border-box;text-align: center;}#sk-container-id-2 label.sk-toggleable__label-arrow:before {content: \"▸\";float: left;margin-right: 0.25em;color: #696969;}#sk-container-id-2 label.sk-toggleable__label-arrow:hover:before {color: black;}#sk-container-id-2 div.sk-estimator:hover label.sk-toggleable__label-arrow:before {color: black;}#sk-container-id-2 div.sk-toggleable__content {max-height: 0;max-width: 0;overflow: hidden;text-align: left;background-color: #f0f8ff;}#sk-container-id-2 div.sk-toggleable__content pre {margin: 0.2em;color: black;border-radius: 0.25em;background-color: #f0f8ff;}#sk-container-id-2 input.sk-toggleable__control:checked~div.sk-toggleable__content {max-height: 200px;max-width: 100%;overflow: auto;}#sk-container-id-2 input.sk-toggleable__control:checked~label.sk-toggleable__label-arrow:before {content: \"▾\";}#sk-container-id-2 div.sk-estimator input.sk-toggleable__control:checked~label.sk-toggleable__label {background-color: #d4ebff;}#sk-container-id-2 div.sk-label input.sk-toggleable__control:checked~label.sk-toggleable__label {background-color: #d4ebff;}#sk-container-id-2 input.sk-hidden--visually {border: 0;clip: rect(1px 1px 1px 1px);clip: rect(1px, 1px, 1px, 1px);height: 1px;margin: -1px;overflow: hidden;padding: 0;position: absolute;width: 1px;}#sk-container-id-2 div.sk-estimator {font-family: monospace;background-color: #f0f8ff;border: 1px dotted black;border-radius: 0.25em;box-sizing: border-box;margin-bottom: 0.5em;}#sk-container-id-2 div.sk-estimator:hover {background-color: #d4ebff;}#sk-container-id-2 div.sk-parallel-item::after {content: \"\";width: 100%;border-bottom: 1px solid gray;flex-grow: 1;}#sk-container-id-2 div.sk-label:hover label.sk-toggleable__label {background-color: #d4ebff;}#sk-container-id-2 div.sk-serial::before {content: \"\";position: absolute;border-left: 1px solid gray;box-sizing: border-box;top: 0;bottom: 0;left: 50%;z-index: 0;}#sk-container-id-2 div.sk-serial {display: flex;flex-direction: column;align-items: center;background-color: white;padding-right: 0.2em;padding-left: 0.2em;position: relative;}#sk-container-id-2 div.sk-item {position: relative;z-index: 1;}#sk-container-id-2 div.sk-parallel {display: flex;align-items: stretch;justify-content: center;background-color: white;position: relative;}#sk-container-id-2 div.sk-item::before, #sk-container-id-2 div.sk-parallel-item::before {content: \"\";position: absolute;border-left: 1px solid gray;box-sizing: border-box;top: 0;bottom: 0;left: 50%;z-index: -1;}#sk-container-id-2 div.sk-parallel-item {display: flex;flex-direction: column;z-index: 1;position: relative;background-color: white;}#sk-container-id-2 div.sk-parallel-item:first-child::after {align-self: flex-end;width: 50%;}#sk-container-id-2 div.sk-parallel-item:last-child::after {align-self: flex-start;width: 50%;}#sk-container-id-2 div.sk-parallel-item:only-child::after {width: 0;}#sk-container-id-2 div.sk-dashed-wrapped {border: 1px dashed gray;margin: 0 0.4em 0.5em 0.4em;box-sizing: border-box;padding-bottom: 0.4em;background-color: white;}#sk-container-id-2 div.sk-label label {font-family: monospace;font-weight: bold;display: inline-block;line-height: 1.2em;}#sk-container-id-2 div.sk-label-container {text-align: center;}#sk-container-id-2 div.sk-container {/* jupyter's `normalize.less` sets `[hidden] { display: none; }` but bootstrap.min.css set `[hidden] { display: none !important; }` so we also need the `!important` here to be able to override the default hidden behavior on the sphinx rendered scikit-learn.org. See: https://github.com/scikit-learn/scikit-learn/issues/21755 */display: inline-block !important;position: relative;}#sk-container-id-2 div.sk-text-repr-fallback {display: none;}</style><div id=\"sk-container-id-2\" class=\"sk-top-container\"><div class=\"sk-text-repr-fallback\"><pre>LinearRegression()</pre><b>In a Jupyter environment, please rerun this cell to show the HTML representation or trust the notebook. <br />On GitHub, the HTML representation is unable to render, please try loading this page with nbviewer.org.</b></div><div class=\"sk-container\" hidden><div class=\"sk-item\"><div class=\"sk-estimator sk-toggleable\"><input class=\"sk-toggleable__control sk-hidden--visually\" id=\"sk-estimator-id-2\" type=\"checkbox\" checked><label for=\"sk-estimator-id-2\" class=\"sk-toggleable__label sk-toggleable__label-arrow\">LinearRegression</label><div class=\"sk-toggleable__content\"><pre>LinearRegression()</pre></div></div></div></div></div>"
      ],
      "text/plain": [
       "LinearRegression()"
      ]
     },
     "execution_count": 17,
     "metadata": {},
     "output_type": "execute_result"
    }
   ],
   "source": [
    "\n",
    "from sklearn.preprocessing import PolynomialFeatures\n",
    "\n",
    "# Create a polynomial feature transformer (e.g., quadratic)\n",
    "poly = PolynomialFeatures(degree=2)\n",
    "X_poly = poly.fit_transform(X)\n",
    "\n",
    "# Train the model on the polynomial features\n",
    "model.fit(X_poly, y)\n"
   ]
  },
  {
   "cell_type": "markdown",
   "id": "13ad1eb2",
   "metadata": {},
   "source": [
    "\n",
    "The steps for making predictions, evaluating the model, and visualizing the results are similar to simple linear regression.\n",
    "\n",
    "Remember that regression analysis assumes a relationship between variables, but it does not establish causation. Make sure to interpret the results carefully and consider potential confounding factors that may affect the relationship between population and crime rates."
   ]
  },
  {
   "cell_type": "code",
   "execution_count": null,
   "id": "d2041b1a",
   "metadata": {},
   "outputs": [],
   "source": []
  },
  {
   "cell_type": "markdown",
   "id": "ff0ca0c1",
   "metadata": {},
   "source": [
    "# Polynomial regression model:"
   ]
  },
  {
   "cell_type": "code",
   "execution_count": 23,
   "id": "e4be25bb",
   "metadata": {},
   "outputs": [
    {
     "name": "stdout",
     "output_type": "stream",
     "text": [
      "Mean Squared Error: 14.278765996006774\n",
      "R-squared: -1.3937579205375985\n"
     ]
    },
    {
     "ename": "ValueError",
     "evalue": "X has 1 features, but LinearRegression is expecting 3 features as input.",
     "output_type": "error",
     "traceback": [
      "\u001b[1;31m---------------------------------------------------------------------------\u001b[0m",
      "\u001b[1;31mValueError\u001b[0m                                Traceback (most recent call last)",
      "Cell \u001b[1;32mIn[23], line 46\u001b[0m\n\u001b[0;32m     43\u001b[0m plt\u001b[38;5;241m.\u001b[39mscatter(X, y, label\u001b[38;5;241m=\u001b[39m\u001b[38;5;124m'\u001b[39m\u001b[38;5;124mData\u001b[39m\u001b[38;5;124m'\u001b[39m)\n\u001b[0;32m     45\u001b[0m \u001b[38;5;66;03m# Plot the regression line\u001b[39;00m\n\u001b[1;32m---> 46\u001b[0m plt\u001b[38;5;241m.\u001b[39mplot(X, \u001b[43mmodel\u001b[49m\u001b[38;5;241;43m.\u001b[39;49m\u001b[43mpredict\u001b[49m\u001b[43m(\u001b[49m\u001b[43mX\u001b[49m\u001b[43m)\u001b[49m, color\u001b[38;5;241m=\u001b[39m\u001b[38;5;124m'\u001b[39m\u001b[38;5;124mred\u001b[39m\u001b[38;5;124m'\u001b[39m, label\u001b[38;5;241m=\u001b[39m\u001b[38;5;124m'\u001b[39m\u001b[38;5;124mRegression Line\u001b[39m\u001b[38;5;124m'\u001b[39m)\n\u001b[0;32m     48\u001b[0m \u001b[38;5;66;03m# Plot the polynomial regression line\u001b[39;00m\n\u001b[0;32m     49\u001b[0m plt\u001b[38;5;241m.\u001b[39mplot(X_test, y_pred_poly, color\u001b[38;5;241m=\u001b[39m\u001b[38;5;124m'\u001b[39m\u001b[38;5;124mblue\u001b[39m\u001b[38;5;124m'\u001b[39m, label\u001b[38;5;241m=\u001b[39m\u001b[38;5;124m'\u001b[39m\u001b[38;5;124mPolynomial Regression Line\u001b[39m\u001b[38;5;124m'\u001b[39m)\n",
      "File \u001b[1;32m~\\anaconda3\\Lib\\site-packages\\sklearn\\linear_model\\_base.py:386\u001b[0m, in \u001b[0;36mLinearModel.predict\u001b[1;34m(self, X)\u001b[0m\n\u001b[0;32m    372\u001b[0m \u001b[38;5;28;01mdef\u001b[39;00m \u001b[38;5;21mpredict\u001b[39m(\u001b[38;5;28mself\u001b[39m, X):\n\u001b[0;32m    373\u001b[0m \u001b[38;5;250m    \u001b[39m\u001b[38;5;124;03m\"\"\"\u001b[39;00m\n\u001b[0;32m    374\u001b[0m \u001b[38;5;124;03m    Predict using the linear model.\u001b[39;00m\n\u001b[0;32m    375\u001b[0m \n\u001b[1;32m   (...)\u001b[0m\n\u001b[0;32m    384\u001b[0m \u001b[38;5;124;03m        Returns predicted values.\u001b[39;00m\n\u001b[0;32m    385\u001b[0m \u001b[38;5;124;03m    \"\"\"\u001b[39;00m\n\u001b[1;32m--> 386\u001b[0m     \u001b[38;5;28;01mreturn\u001b[39;00m \u001b[38;5;28;43mself\u001b[39;49m\u001b[38;5;241;43m.\u001b[39;49m\u001b[43m_decision_function\u001b[49m\u001b[43m(\u001b[49m\u001b[43mX\u001b[49m\u001b[43m)\u001b[49m\n",
      "File \u001b[1;32m~\\anaconda3\\Lib\\site-packages\\sklearn\\linear_model\\_base.py:369\u001b[0m, in \u001b[0;36mLinearModel._decision_function\u001b[1;34m(self, X)\u001b[0m\n\u001b[0;32m    366\u001b[0m \u001b[38;5;28;01mdef\u001b[39;00m \u001b[38;5;21m_decision_function\u001b[39m(\u001b[38;5;28mself\u001b[39m, X):\n\u001b[0;32m    367\u001b[0m     check_is_fitted(\u001b[38;5;28mself\u001b[39m)\n\u001b[1;32m--> 369\u001b[0m     X \u001b[38;5;241m=\u001b[39m \u001b[38;5;28;43mself\u001b[39;49m\u001b[38;5;241;43m.\u001b[39;49m\u001b[43m_validate_data\u001b[49m\u001b[43m(\u001b[49m\u001b[43mX\u001b[49m\u001b[43m,\u001b[49m\u001b[43m \u001b[49m\u001b[43maccept_sparse\u001b[49m\u001b[38;5;241;43m=\u001b[39;49m\u001b[43m[\u001b[49m\u001b[38;5;124;43m\"\u001b[39;49m\u001b[38;5;124;43mcsr\u001b[39;49m\u001b[38;5;124;43m\"\u001b[39;49m\u001b[43m,\u001b[49m\u001b[43m \u001b[49m\u001b[38;5;124;43m\"\u001b[39;49m\u001b[38;5;124;43mcsc\u001b[39;49m\u001b[38;5;124;43m\"\u001b[39;49m\u001b[43m,\u001b[49m\u001b[43m \u001b[49m\u001b[38;5;124;43m\"\u001b[39;49m\u001b[38;5;124;43mcoo\u001b[39;49m\u001b[38;5;124;43m\"\u001b[39;49m\u001b[43m]\u001b[49m\u001b[43m,\u001b[49m\u001b[43m \u001b[49m\u001b[43mreset\u001b[49m\u001b[38;5;241;43m=\u001b[39;49m\u001b[38;5;28;43;01mFalse\u001b[39;49;00m\u001b[43m)\u001b[49m\n\u001b[0;32m    370\u001b[0m     \u001b[38;5;28;01mreturn\u001b[39;00m safe_sparse_dot(X, \u001b[38;5;28mself\u001b[39m\u001b[38;5;241m.\u001b[39mcoef_\u001b[38;5;241m.\u001b[39mT, dense_output\u001b[38;5;241m=\u001b[39m\u001b[38;5;28;01mTrue\u001b[39;00m) \u001b[38;5;241m+\u001b[39m \u001b[38;5;28mself\u001b[39m\u001b[38;5;241m.\u001b[39mintercept_\n",
      "File \u001b[1;32m~\\anaconda3\\Lib\\site-packages\\sklearn\\base.py:625\u001b[0m, in \u001b[0;36mBaseEstimator._validate_data\u001b[1;34m(self, X, y, reset, validate_separately, cast_to_ndarray, **check_params)\u001b[0m\n\u001b[0;32m    622\u001b[0m     out \u001b[38;5;241m=\u001b[39m X, y\n\u001b[0;32m    624\u001b[0m \u001b[38;5;28;01mif\u001b[39;00m \u001b[38;5;129;01mnot\u001b[39;00m no_val_X \u001b[38;5;129;01mand\u001b[39;00m check_params\u001b[38;5;241m.\u001b[39mget(\u001b[38;5;124m\"\u001b[39m\u001b[38;5;124mensure_2d\u001b[39m\u001b[38;5;124m\"\u001b[39m, \u001b[38;5;28;01mTrue\u001b[39;00m):\n\u001b[1;32m--> 625\u001b[0m     \u001b[38;5;28;43mself\u001b[39;49m\u001b[38;5;241;43m.\u001b[39;49m\u001b[43m_check_n_features\u001b[49m\u001b[43m(\u001b[49m\u001b[43mX\u001b[49m\u001b[43m,\u001b[49m\u001b[43m \u001b[49m\u001b[43mreset\u001b[49m\u001b[38;5;241;43m=\u001b[39;49m\u001b[43mreset\u001b[49m\u001b[43m)\u001b[49m\n\u001b[0;32m    627\u001b[0m \u001b[38;5;28;01mreturn\u001b[39;00m out\n",
      "File \u001b[1;32m~\\anaconda3\\Lib\\site-packages\\sklearn\\base.py:414\u001b[0m, in \u001b[0;36mBaseEstimator._check_n_features\u001b[1;34m(self, X, reset)\u001b[0m\n\u001b[0;32m    411\u001b[0m     \u001b[38;5;28;01mreturn\u001b[39;00m\n\u001b[0;32m    413\u001b[0m \u001b[38;5;28;01mif\u001b[39;00m n_features \u001b[38;5;241m!=\u001b[39m \u001b[38;5;28mself\u001b[39m\u001b[38;5;241m.\u001b[39mn_features_in_:\n\u001b[1;32m--> 414\u001b[0m     \u001b[38;5;28;01mraise\u001b[39;00m \u001b[38;5;167;01mValueError\u001b[39;00m(\n\u001b[0;32m    415\u001b[0m         \u001b[38;5;124mf\u001b[39m\u001b[38;5;124m\"\u001b[39m\u001b[38;5;124mX has \u001b[39m\u001b[38;5;132;01m{\u001b[39;00mn_features\u001b[38;5;132;01m}\u001b[39;00m\u001b[38;5;124m features, but \u001b[39m\u001b[38;5;132;01m{\u001b[39;00m\u001b[38;5;28mself\u001b[39m\u001b[38;5;241m.\u001b[39m\u001b[38;5;18m__class__\u001b[39m\u001b[38;5;241m.\u001b[39m\u001b[38;5;18m__name__\u001b[39m\u001b[38;5;132;01m}\u001b[39;00m\u001b[38;5;124m \u001b[39m\u001b[38;5;124m\"\u001b[39m\n\u001b[0;32m    416\u001b[0m         \u001b[38;5;124mf\u001b[39m\u001b[38;5;124m\"\u001b[39m\u001b[38;5;124mis expecting \u001b[39m\u001b[38;5;132;01m{\u001b[39;00m\u001b[38;5;28mself\u001b[39m\u001b[38;5;241m.\u001b[39mn_features_in_\u001b[38;5;132;01m}\u001b[39;00m\u001b[38;5;124m features as input.\u001b[39m\u001b[38;5;124m\"\u001b[39m\n\u001b[0;32m    417\u001b[0m     )\n",
      "\u001b[1;31mValueError\u001b[0m: X has 1 features, but LinearRegression is expecting 3 features as input."
     ]
    },
    {
     "data": {
      "image/png": "[encoded data removed]",
      "text/plain": [
       "<Figure size 1000x500 with 1 Axes>"
      ]
     },
     "metadata": {},
     "output_type": "display_data"
    }
   ],
   "source": [
    "import numpy as np\n",
    "import matplotlib.pyplot as plt\n",
    "from sklearn.linear_model import LinearRegression\n",
    "from sklearn.model_selection import train_test_split\n",
    "from sklearn.metrics import mean_squared_error, r2_score\n",
    "from sklearn.preprocessing import PolynomialFeatures\n",
    "\n",
    "# Load the data\n",
    "#data = np.loadtxt(\"./Datasets/Pop_and_crime.csv\", delimiter=',')\n",
    "\n",
    "# Split the data into independent and dependent variables\n",
    "X = data['Population_Total'].values.reshape(-1, 1)\n",
    "y = data['Importation of drugs'].values\n",
    "\n",
    "# Create a polynomial features transformer\n",
    "poly_features = PolynomialFeatures(degree=2)\n",
    "\n",
    "# Transform the training data\n",
    "X_train_poly = poly_features.fit_transform(X_train)\n",
    "\n",
    "# Transform the test data\n",
    "X_test_poly = poly_features.transform(X_test)\n",
    "\n",
    "# Create a linear regression model\n",
    "model = LinearRegression()\n",
    "\n",
    "# Fit the model to the transformed training data\n",
    "model.fit(X_train_poly, y_train)\n",
    "\n",
    "# Make predictions on the transformed test data\n",
    "y_pred_poly = model.predict(X_test_poly)\n",
    "\n",
    "# Evaluate the model\n",
    "mse = mean_squared_error(y_test, y_pred_poly)\n",
    "r2 = r2_score(y_test, y_pred_poly)\n",
    "print(f'Mean Squared Error: {mse}')\n",
    "print(f'R-squared: {r2}')\n",
    "\n",
    "# Plot the results\n",
    "plt.figure(figsize=(10, 5))\n",
    "\n",
    "# Plot the data points\n",
    "plt.scatter(X, y, label='Data')\n",
    "\n",
    "# Plot the regression line\n",
    "plt.plot(X, model.predict(X), color='red', label='Regression Line')\n",
    "\n",
    "# Plot the polynomial regression line\n",
    "plt.plot(X_test, y_pred_poly, color='blue', label='Polynomial Regression Line')\n",
    "\n",
    "plt.xlabel('Population')\n",
    "plt.ylabel('Importation of drugs')\n",
    "plt.legend()\n",
    "plt.show()"
   ]
  }
 ],
 "metadata": {
  "kernelspec": {
   "display_name": "Python 3 (ipykernel)",
   "language": "python",
   "name": "python3"
  },
  "language_info": {
   "codemirror_mode": {
    "name": "ipython",
    "version": 3
   },
   "file_extension": ".py",
   "mimetype": "text/x-python",
   "name": "python",
   "nbconvert_exporter": "python",
   "pygments_lexer": "ipython3",
   "version": "3.11.5"
  }
 },
 "nbformat": 4,
 "nbformat_minor": 5
}
