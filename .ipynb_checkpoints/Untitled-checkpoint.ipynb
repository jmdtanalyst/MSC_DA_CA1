{
 "cells": [
  {
   "cell_type": "code",
   "execution_count": 7,
   "id": "3e58896f",
   "metadata": {},
   "outputs": [
    {
     "name": "stdout",
     "output_type": "stream",
     "text": [
      "Empty DataFrame\n",
      "Columns: [Year, Border, Midland, West, Dublin, Mid-East, Mid-West, South-East, South-West, Total, UNIT]\n",
      "Index: []\n"
     ]
    }
   ],
   "source": [
    "import pandas as pd\n",
    "import numpy as np\n",
    "from scipy import stats\n",
    "\n",
    "# Create a DataFrame from your data\n",
    "df =pd.read_csv('population.csv')\n",
    "\n",
    "\n",
    "# Calculate Z-scores\n",
    "z_scores = np.abs(stats.zscore(df.iloc[:, 1:-1]))  # Exclude the 'Year' and 'UNIT' columns\n",
    "\n",
    "# Set a threshold for Z-scores (e.g., 3 standard deviations)\n",
    "threshold = 3\n",
    "\n",
    "# Find and print potential outliers\n",
    "outliers = df[(z_scores > threshold).any(axis=1)]\n",
    "\n",
    "print(outliers)"
   ]
  },
  {
   "cell_type": "code",
   "execution_count": 9,
   "id": "d771223c",
   "metadata": {},
   "outputs": [],
   "source": [
    "df['Border'].to_csv('border.csv', index=False)"
   ]
  },
  {
   "cell_type": "code",
   "execution_count": 10,
   "id": "51888d93",
   "metadata": {},
   "outputs": [
    {
     "name": "stdout",
     "output_type": "stream",
     "text": [
      "Potential outliers: []\n"
     ]
    }
   ],
   "source": [
    "import numpy as np\n",
    "from scipy import stats\n",
    "\n",
    "data = [\n",
    "    407.3, 408.2, 410.6, 414.8, 420.5, 425.0, 432.5, 439.6, 449.8, 457.5,\n",
    "    469.8, 483.9, 496.5, 508.2, 511.5, 391.9, 392.1, 393.1, 392.0, 391.9,\n",
    "    393.3, 400.3, 405.7, 409.9, 412.0, 417.1, 422.2, 432.1\n",
    "]\n",
    "\n",
    "# Calculate Z-scores\n",
    "z_scores = np.abs(stats.zscore(data))\n",
    "\n",
    "# Set a threshold for Z-scores (e.g., 3 standard deviations)\n",
    "threshold = 3\n",
    "\n",
    "# Find and print potential outliers\n",
    "outliers = [value for value, z_score in zip(data, z_scores) if z_score > threshold]\n",
    "\n",
    "print(\"Potential outliers:\", outliers)\n"
   ]
  },
  {
   "cell_type": "code",
   "execution_count": 11,
   "id": "cb70ce8f",
   "metadata": {},
   "outputs": [
    {
     "name": "stdout",
     "output_type": "stream",
     "text": [
      "Potential outliers: [508.2, 511.5]\n"
     ]
    }
   ],
   "source": [
    "import numpy as np\n",
    "\n",
    "data = [\n",
    "    407.3, 408.2, 410.6, 414.8, 420.5, 425.0, 432.5, 439.6, 449.8, 457.5,\n",
    "    469.8, 483.9, 496.5, 508.2, 511.5, 391.9, 392.1, 393.1, 392.0, 391.9,\n",
    "    393.3, 400.3, 405.7, 409.9, 412.0, 417.1, 422.2, 432.1\n",
    "]\n",
    "\n",
    "# Calculate quartiles\n",
    "Q1 = np.percentile(data, 25)\n",
    "Q3 = np.percentile(data, 75)\n",
    "\n",
    "# Calculate the IQR\n",
    "IQR = Q3 - Q1\n",
    "\n",
    "# Define lower and upper bounds\n",
    "lower_bound = Q1 - 1.5 * IQR\n",
    "upper_bound = Q3 + 1.5 * IQR\n",
    "\n",
    "# Identify potential outliers\n",
    "outliers = [value for value in data if value < lower_bound or value > upper_bound]\n",
    "\n",
    "print(\"Potential outliers:\", outliers)"
   ]
  }
 ],
 "metadata": {
  "kernelspec": {
   "display_name": "Python 3 (ipykernel)",
   "language": "python",
   "name": "python3"
  },
  "language_info": {
   "codemirror_mode": {
    "name": "ipython",
    "version": 3
   },
   "file_extension": ".py",
   "mimetype": "text/x-python",
   "name": "python",
   "nbconvert_exporter": "python",
   "pygments_lexer": "ipython3",
   "version": "3.11.5"
  }
 },
 "nbformat": 4,
 "nbformat_minor": 5
}
